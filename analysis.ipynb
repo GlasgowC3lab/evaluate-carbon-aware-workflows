{
 "cells": [
  {
   "cell_type": "code",
   "execution_count": null,
   "metadata": {},
   "outputs": [],
   "source": [
    "# Carbon Intensity Data - exemplar\n",
    "# identify regions\n",
    "# continents? could have 7 regions, 2 in europe, 2 in america, 1 in africa, 1 in asia, 1 in oceania\n",
    "# Europe: UK, Germany\n",
    "# America: California, Texas (?)\n",
    "# Africa: South Africa (?)\n",
    "# Asia: Tokyo / Singapore - available on both\n",
    "# Oceania: new south wales (Sydney is here?)\n",
    "\n",
    "# Entire Workflow Shifting\n",
    "# avg data:\n",
    "# marg data:\n",
    "\n",
    "# Interrupted Workflow Shifting\n",
    "# avg data:\n",
    "# marg data:\n",
    "\n",
    "# Resource Assignment\n",
    "# resources? more than we had previously\n",
    "# tasks? i.e. >2 tasks on their own, ideally with a runtime around 15-30 minutes (?) \n",
    "# same start time for all, +3 months x4, alt. months if available, configure this!\n",
    "\n",
    "# Resource Scaling - task\n",
    "# configure the resources, use frequency, different governors? \n",
    "# use the same interval / start time for all ci data, whether avg or marginal\n",
    "# take the timeframe, and then add 3 months so it occurs during four distinct seasons of the year, even expand to once each month? or an average day from each month, idk how to make this as representative as possible\n",
    "\n",
    "# Resource Scaling - workflow\n",
    "# previous example\n",
    "# experiment running a workflow on a kubernetes cluster, or some configuration here \n",
    "# kubernetes cluster with more/less virtual nodes/pods?\n",
    "# make those nodes have different settings, and estimate for different workflows, consumption on those compared to xyz\n",
    "# use ci data from where/when executed, but compare if needed??"
   ]
  }
 ],
 "metadata": {
  "language_info": {
   "name": "python"
  }
 },
 "nbformat": 4,
 "nbformat_minor": 2
}
